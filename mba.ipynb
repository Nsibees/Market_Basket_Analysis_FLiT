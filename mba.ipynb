{
 "cells": [
  {
   "cell_type": "markdown",
   "id": "92235d29",
   "metadata": {},
   "source": [
    "MARKET BASKET ANALYSIS"
   ]
  },
  {
   "cell_type": "code",
   "execution_count": 4,
   "id": "b58f2b5c",
   "metadata": {},
   "outputs": [
    {
     "name": "stdout",
     "output_type": "stream",
     "text": [
      "^C\n",
      "Requirement already satisfied: apyori in c:\\users\\user\\appdata\\local\\programs\\python\\python312\\lib\\site-packages (1.1.2)\n"
     ]
    },
    {
     "name": "stderr",
     "output_type": "stream",
     "text": [
      "\n",
      "[notice] A new release of pip is available: 23.3.2 -> 24.0\n",
      "[notice] To update, run: python.exe -m pip install --upgrade pip\n"
     ]
    },
    {
     "name": "stdout",
     "output_type": "stream",
     "text": [
      "Requirement already satisfied: mlxtend in c:\\users\\user\\appdata\\local\\programs\\python\\python312\\lib\\site-packages (0.23.1)\n",
      "Requirement already satisfied: scipy>=1.2.1 in c:\\users\\user\\appdata\\local\\programs\\python\\python312\\lib\\site-packages (from mlxtend) (1.12.0)\n",
      "Requirement already satisfied: numpy>=1.16.2 in c:\\users\\user\\appdata\\local\\programs\\python\\python312\\lib\\site-packages (from mlxtend) (1.26.3)\n",
      "Requirement already satisfied: pandas>=0.24.2 in c:\\users\\user\\appdata\\local\\programs\\python\\python312\\lib\\site-packages (from mlxtend) (2.2.0)\n",
      "Requirement already satisfied: scikit-learn>=1.0.2 in c:\\users\\user\\appdata\\local\\programs\\python\\python312\\lib\\site-packages (from mlxtend) (1.4.0)\n",
      "Requirement already satisfied: matplotlib>=3.0.0 in c:\\users\\user\\appdata\\local\\programs\\python\\python312\\lib\\site-packages (from mlxtend) (3.8.2)\n",
      "Requirement already satisfied: joblib>=0.13.2 in c:\\users\\user\\appdata\\local\\programs\\python\\python312\\lib\\site-packages (from mlxtend) (1.3.2)\n",
      "Requirement already satisfied: contourpy>=1.0.1 in c:\\users\\user\\appdata\\local\\programs\\python\\python312\\lib\\site-packages (from matplotlib>=3.0.0->mlxtend) (1.2.0)\n",
      "Requirement already satisfied: cycler>=0.10 in c:\\users\\user\\appdata\\local\\programs\\python\\python312\\lib\\site-packages (from matplotlib>=3.0.0->mlxtend) (0.12.1)\n",
      "Requirement already satisfied: fonttools>=4.22.0 in c:\\users\\user\\appdata\\local\\programs\\python\\python312\\lib\\site-packages (from matplotlib>=3.0.0->mlxtend) (4.47.2)\n",
      "Requirement already satisfied: kiwisolver>=1.3.1 in c:\\users\\user\\appdata\\local\\programs\\python\\python312\\lib\\site-packages (from matplotlib>=3.0.0->mlxtend) (1.4.5)\n",
      "Requirement already satisfied: packaging>=20.0 in c:\\users\\user\\appdata\\roaming\\python\\python312\\site-packages (from matplotlib>=3.0.0->mlxtend) (23.2)\n",
      "Requirement already satisfied: pillow>=8 in c:\\users\\user\\appdata\\local\\programs\\python\\python312\\lib\\site-packages (from matplotlib>=3.0.0->mlxtend) (10.2.0)\n",
      "Requirement already satisfied: pyparsing>=2.3.1 in c:\\users\\user\\appdata\\local\\programs\\python\\python312\\lib\\site-packages (from matplotlib>=3.0.0->mlxtend) (3.1.1)\n",
      "Requirement already satisfied: python-dateutil>=2.7 in c:\\users\\user\\appdata\\roaming\\python\\python312\\site-packages (from matplotlib>=3.0.0->mlxtend) (2.8.2)\n",
      "Requirement already satisfied: pytz>=2020.1 in c:\\users\\user\\appdata\\local\\programs\\python\\python312\\lib\\site-packages (from pandas>=0.24.2->mlxtend) (2024.1)\n",
      "Requirement already satisfied: tzdata>=2022.7 in c:\\users\\user\\appdata\\local\\programs\\python\\python312\\lib\\site-packages (from pandas>=0.24.2->mlxtend) (2023.4)\n",
      "Requirement already satisfied: threadpoolctl>=2.0.0 in c:\\users\\user\\appdata\\local\\programs\\python\\python312\\lib\\site-packages (from scikit-learn>=1.0.2->mlxtend) (3.2.0)\n",
      "Requirement already satisfied: six>=1.5 in c:\\users\\user\\appdata\\roaming\\python\\python312\\site-packages (from python-dateutil>=2.7->matplotlib>=3.0.0->mlxtend) (1.16.0)\n"
     ]
    },
    {
     "name": "stderr",
     "output_type": "stream",
     "text": [
      "\n",
      "[notice] A new release of pip is available: 23.3.2 -> 24.0\n",
      "[notice] To update, run: python.exe -m pip install --upgrade pip\n"
     ]
    },
    {
     "name": "stdout",
     "output_type": "stream",
     "text": [
      "Requirement already satisfied: seaborn in c:\\users\\user\\appdata\\local\\programs\\python\\python312\\lib\\site-packages (0.13.2)"
     ]
    },
    {
     "name": "stderr",
     "output_type": "stream",
     "text": [
      "\n",
      "[notice] A new release of pip is available: 23.3.2 -> 24.0\n",
      "[notice] To update, run: python.exe -m pip install --upgrade pip\n"
     ]
    },
    {
     "name": "stdout",
     "output_type": "stream",
     "text": [
      "\n",
      "Requirement already satisfied: numpy!=1.24.0,>=1.20 in c:\\users\\user\\appdata\\local\\programs\\python\\python312\\lib\\site-packages (from seaborn) (1.26.3)\n",
      "Requirement already satisfied: pandas>=1.2 in c:\\users\\user\\appdata\\local\\programs\\python\\python312\\lib\\site-packages (from seaborn) (2.2.0)\n",
      "Requirement already satisfied: matplotlib!=3.6.1,>=3.4 in c:\\users\\user\\appdata\\local\\programs\\python\\python312\\lib\\site-packages (from seaborn) (3.8.2)\n",
      "Requirement already satisfied: contourpy>=1.0.1 in c:\\users\\user\\appdata\\local\\programs\\python\\python312\\lib\\site-packages (from matplotlib!=3.6.1,>=3.4->seaborn) (1.2.0)\n",
      "Requirement already satisfied: cycler>=0.10 in c:\\users\\user\\appdata\\local\\programs\\python\\python312\\lib\\site-packages (from matplotlib!=3.6.1,>=3.4->seaborn) (0.12.1)\n",
      "Requirement already satisfied: fonttools>=4.22.0 in c:\\users\\user\\appdata\\local\\programs\\python\\python312\\lib\\site-packages (from matplotlib!=3.6.1,>=3.4->seaborn) (4.47.2)\n",
      "Requirement already satisfied: kiwisolver>=1.3.1 in c:\\users\\user\\appdata\\local\\programs\\python\\python312\\lib\\site-packages (from matplotlib!=3.6.1,>=3.4->seaborn) (1.4.5)\n",
      "Requirement already satisfied: packaging>=20.0 in c:\\users\\user\\appdata\\roaming\\python\\python312\\site-packages (from matplotlib!=3.6.1,>=3.4->seaborn) (23.2)\n",
      "Requirement already satisfied: pillow>=8 in c:\\users\\user\\appdata\\local\\programs\\python\\python312\\lib\\site-packages (from matplotlib!=3.6.1,>=3.4->seaborn) (10.2.0)\n",
      "Requirement already satisfied: pyparsing>=2.3.1 in c:\\users\\user\\appdata\\local\\programs\\python\\python312\\lib\\site-packages (from matplotlib!=3.6.1,>=3.4->seaborn) (3.1.1)\n",
      "Requirement already satisfied: python-dateutil>=2.7 in c:\\users\\user\\appdata\\roaming\\python\\python312\\site-packages (from matplotlib!=3.6.1,>=3.4->seaborn) (2.8.2)\n",
      "Requirement already satisfied: pytz>=2020.1 in c:\\users\\user\\appdata\\local\\programs\\python\\python312\\lib\\site-packages (from pandas>=1.2->seaborn) (2024.1)\n",
      "Requirement already satisfied: tzdata>=2022.7 in c:\\users\\user\\appdata\\local\\programs\\python\\python312\\lib\\site-packages (from pandas>=1.2->seaborn) (2023.4)\n",
      "Requirement already satisfied: six>=1.5 in c:\\users\\user\\appdata\\roaming\\python\\python312\\site-packages (from python-dateutil>=2.7->matplotlib!=3.6.1,>=3.4->seaborn) (1.16.0)\n"
     ]
    }
   ],
   "source": [
    "#Step 1- Importing Required Libraries\n",
    "!pip install apyori\n",
    "!pip install mlxtend \n",
    "!pip install seaborn \n",
    "from mlxtend.frequent_patterns import apriori\n",
    "from mlxtend.frequent_patterns import association_rules\n",
    "\n",
    "from apyori import apriori\n",
    "#transactions = globals()['transactions']\n",
    "import numpy as np # linear algebra\n",
    "import pandas as pd # Data pre-processing\n",
    "import seaborn as sns # Required for plotting\n",
    "import matplotlib.pyplot as plt # Required for plotting"
   ]
  },
  {
   "cell_type": "code",
   "execution_count": null,
   "id": "289af2f4",
   "metadata": {},
   "outputs": [
    {
     "name": "stdout",
     "output_type": "stream",
     "text": [
      "       Member_number        Date        itemDescription\n",
      "0               1808  21-07-2015         tropical fruit\n",
      "1               2552  05-01-2015             whole milk\n",
      "2               2300  19-09-2015              pip fruit\n",
      "3               1187  12-12-2015       other vegetables\n",
      "4               3037  01-02-2015             whole milk\n",
      "...              ...         ...                    ...\n",
      "38760           4471  08-10-2014          sliced cheese\n",
      "38761           2022  23-02-2014                  candy\n",
      "38762           1097  16-04-2014               cake bar\n",
      "38763           1510  03-12-2014  fruit/vegetable juice\n",
      "38764           1521  26-12-2014               cat food\n",
      "\n",
      "[38765 rows x 3 columns]\n"
     ]
    }
   ],
   "source": [
    "# Step 2-Import data\n",
    "import pandas as pd\n",
    "df= pd.read_csv(r\"C:\\Users\\USER\\Desktop\\FLiT_Project 1\\MBA- Groceries_dataset.csv\")\n",
    "# Display the data\n",
    "df.head()\n",
    "print(df)"
   ]
  },
  {
   "cell_type": "code",
   "execution_count": null,
   "id": "28831bef",
   "metadata": {},
   "outputs": [
    {
     "data": {
      "text/html": [
       "<div>\n",
       "<style scoped>\n",
       "    .dataframe tbody tr th:only-of-type {\n",
       "        vertical-align: middle;\n",
       "    }\n",
       "\n",
       "    .dataframe tbody tr th {\n",
       "        vertical-align: top;\n",
       "    }\n",
       "\n",
       "    .dataframe thead th {\n",
       "        text-align: right;\n",
       "    }\n",
       "</style>\n",
       "<table border=\"1\" class=\"dataframe\">\n",
       "  <thead>\n",
       "    <tr style=\"text-align: right;\">\n",
       "      <th></th>\n",
       "      <th>Member_number</th>\n",
       "      <th>Date</th>\n",
       "      <th>itemDescription</th>\n",
       "    </tr>\n",
       "  </thead>\n",
       "  <tbody>\n",
       "    <tr>\n",
       "      <th>0</th>\n",
       "      <td>1808</td>\n",
       "      <td>21-07-2015</td>\n",
       "      <td>tropical fruit</td>\n",
       "    </tr>\n",
       "    <tr>\n",
       "      <th>1</th>\n",
       "      <td>2552</td>\n",
       "      <td>05-01-2015</td>\n",
       "      <td>whole milk</td>\n",
       "    </tr>\n",
       "    <tr>\n",
       "      <th>2</th>\n",
       "      <td>2300</td>\n",
       "      <td>19-09-2015</td>\n",
       "      <td>pip fruit</td>\n",
       "    </tr>\n",
       "    <tr>\n",
       "      <th>3</th>\n",
       "      <td>1187</td>\n",
       "      <td>12-12-2015</td>\n",
       "      <td>other vegetables</td>\n",
       "    </tr>\n",
       "    <tr>\n",
       "      <th>4</th>\n",
       "      <td>3037</td>\n",
       "      <td>01-02-2015</td>\n",
       "      <td>whole milk</td>\n",
       "    </tr>\n",
       "  </tbody>\n",
       "</table>\n",
       "</div>"
      ],
      "text/plain": [
       "   Member_number        Date   itemDescription\n",
       "0           1808  21-07-2015    tropical fruit\n",
       "1           2552  05-01-2015        whole milk\n",
       "2           2300  19-09-2015         pip fruit\n",
       "3           1187  12-12-2015  other vegetables\n",
       "4           3037  01-02-2015        whole milk"
      ]
     },
     "execution_count": 77,
     "metadata": {},
     "output_type": "execute_result"
    }
   ],
   "source": [
    "df.shape\n",
    "(38765, 3)\n",
    "df.head()"
   ]
  },
  {
   "cell_type": "code",
   "execution_count": null,
   "id": "c62814e4",
   "metadata": {},
   "outputs": [
    {
     "name": "stdout",
     "output_type": "stream",
     "text": [
      "<class 'pandas.core.frame.DataFrame'>\n",
      "RangeIndex: 38765 entries, 0 to 38764\n",
      "Data columns (total 3 columns):\n",
      " #   Column           Non-Null Count  Dtype \n",
      "---  ------           --------------  ----- \n",
      " 0   Member_number    38765 non-null  int64 \n",
      " 1   Date             38765 non-null  object\n",
      " 2   itemDescription  38765 non-null  object\n",
      "dtypes: int64(1), object(2)\n",
      "memory usage: 908.7+ KB\n"
     ]
    }
   ],
   "source": [
    "# Checking data type information for validation purposes (No Null values should be present)\n",
    "df.info()"
   ]
  },
  {
   "cell_type": "code",
   "execution_count": null,
   "id": "b7754876",
   "metadata": {},
   "outputs": [
    {
     "data": {
      "text/html": [
       "<div>\n",
       "<style scoped>\n",
       "    .dataframe tbody tr th:only-of-type {\n",
       "        vertical-align: middle;\n",
       "    }\n",
       "\n",
       "    .dataframe tbody tr th {\n",
       "        vertical-align: top;\n",
       "    }\n",
       "\n",
       "    .dataframe thead th {\n",
       "        text-align: right;\n",
       "    }\n",
       "</style>\n",
       "<table border=\"1\" class=\"dataframe\">\n",
       "  <thead>\n",
       "    <tr style=\"text-align: right;\">\n",
       "      <th></th>\n",
       "      <th>Member_number</th>\n",
       "      <th>Date</th>\n",
       "      <th>itemDescription</th>\n",
       "    </tr>\n",
       "  </thead>\n",
       "  <tbody>\n",
       "    <tr>\n",
       "      <th>0</th>\n",
       "      <td>1808</td>\n",
       "      <td>2015-07-21</td>\n",
       "      <td>tropical fruit</td>\n",
       "    </tr>\n",
       "    <tr>\n",
       "      <th>1</th>\n",
       "      <td>2552</td>\n",
       "      <td>2015-01-05</td>\n",
       "      <td>whole milk</td>\n",
       "    </tr>\n",
       "    <tr>\n",
       "      <th>2</th>\n",
       "      <td>2300</td>\n",
       "      <td>2015-09-19</td>\n",
       "      <td>pip fruit</td>\n",
       "    </tr>\n",
       "    <tr>\n",
       "      <th>3</th>\n",
       "      <td>1187</td>\n",
       "      <td>2015-12-12</td>\n",
       "      <td>other vegetables</td>\n",
       "    </tr>\n",
       "    <tr>\n",
       "      <th>4</th>\n",
       "      <td>3037</td>\n",
       "      <td>2015-02-01</td>\n",
       "      <td>whole milk</td>\n",
       "    </tr>\n",
       "  </tbody>\n",
       "</table>\n",
       "</div>"
      ],
      "text/plain": [
       "   Member_number       Date   itemDescription\n",
       "0           1808 2015-07-21    tropical fruit\n",
       "1           2552 2015-01-05        whole milk\n",
       "2           2300 2015-09-19         pip fruit\n",
       "3           1187 2015-12-12  other vegetables\n",
       "4           3037 2015-02-01        whole milk"
      ]
     },
     "execution_count": 79,
     "metadata": {},
     "output_type": "execute_result"
    }
   ],
   "source": [
    "#Step 3 data preprocessing\n",
    "# Type-Conversion from Object to Dateime\n",
    "df['Date'] = pd.to_datetime(df['Date'],format='%d-%m-%Y')\n",
    "df.head()"
   ]
  },
  {
   "cell_type": "code",
   "execution_count": null,
   "id": "c81d3bf1",
   "metadata": {},
   "outputs": [],
   "source": [
    "#Step - 4 : Performing Exploratory Data Analysis\n",
    "#Step - 4.1 : Top 10 Sold Items\n",
    "\n"
   ]
  },
  {
   "cell_type": "code",
   "execution_count": null,
   "id": "591ec7cf",
   "metadata": {},
   "outputs": [
    {
     "data": {
      "image/png": "[encoded data removed]",
      "text/plain": [
       "<Figure size 1500x500 with 1 Axes>"
      ]
     },
     "metadata": {},
     "output_type": "display_data"
    }
   ],
   "source": [
    "## Creating distribution of Item Sold\n",
    "\n",
    "Item_distr = df.groupby(by = \"itemDescription\").size().reset_index(name='Frequency').sort_values(by = 'Frequency',ascending=False).head(10)\n",
    "\n",
    "# Declaring variables\n",
    "\n",
    "bars = Item_distr[\"itemDescription\"]\n",
    "height = Item_distr[\"Frequency\"]\n",
    "x_pos = np.arange(len(bars))\n",
    "\n",
    "# Defining Figure Size\n",
    "\n",
    "plt.figure(figsize=(15,5))\n",
    "\n",
    "# Create bars\n",
    "plt.bar(x_pos, height, color=(0.3, 0.4, 0.6, 0.6))\n",
    "\n",
    "# Add title and axis names\n",
    "plt.title(\"Top 10 Sold Items\")\n",
    "plt.xlabel(\"Item Name\")\n",
    "plt.ylabel(\"Number of Quantity Sold\")\n",
    "\n",
    "# Create names on the x-axis\n",
    "plt.xticks(x_pos, bars)\n",
    "\n",
    "# Show graph\n",
    "plt.show()"
   ]
  },
  {
   "cell_type": "code",
   "execution_count": null,
   "id": "a29ebae9",
   "metadata": {},
   "outputs": [
    {
     "data": {
      "text/plain": [
       "[Text(0.5, 0, 'Date'), Text(0, 0.5, 'Number of Items Sold')]"
      ]
     },
     "execution_count": 82,
     "metadata": {},
     "output_type": "execute_result"
    },
    {
     "data": {
      "image/png": "[encoded data removed]",
      "text/plain": [
       "<Figure size 1500x500 with 1 Axes>"
      ]
     },
     "metadata": {},
     "output_type": "display_data"
    }
   ],
   "source": [
    "#Step - 4.2 : Month-Year Sales\n",
    "## Setting date as index for plotting purpose\n",
    "df_date=df.set_index(['Date'])\n",
    "\n",
    "\n",
    "df_date.resample(\"M\")['itemDescription'].count().plot(figsize = (15,5), grid = True, title = \"Number by Items Sold by Month\").set(xlabel = \"Date\", ylabel = \"Number of Items Sold\")"
   ]
  },
  {
   "cell_type": "code",
   "execution_count": null,
   "id": "23b1b292",
   "metadata": {},
   "outputs": [
    {
     "data": {
      "text/plain": [
       "Text(0, 0.5, 'Qty')"
      ]
     },
     "execution_count": 83,
     "metadata": {},
     "output_type": "execute_result"
    },
    {
     "data": {
      "image/png": "[encoded data removed]",
      "text/plain": [
       "<Figure size 1200x600 with 1 Axes>"
      ]
     },
     "metadata": {},
     "output_type": "display_data"
    }
   ],
   "source": [
    "# average number of items sold per day\n",
    "\n",
    "import matplotlib.pyplot as plt\n",
    "df[['Date','itemDescription']].groupby('Date').count()\\\n",
    ".resample('M').mean()\\\n",
    ".plot(figsize=(12,6), legend=False, fontsize=14)\n",
    "plt.title('Number of Items Sold per Day', fontsize=18)\n",
    "plt.xlabel('Date',fontsize=14)\n",
    "plt.ylabel('Qty', fontsize=14)"
   ]
  },
  {
   "cell_type": "code",
   "execution_count": null,
   "id": "514fdb8c",
   "metadata": {},
   "outputs": [
    {
     "data": {
      "text/html": [
       "<div>\n",
       "<style scoped>\n",
       "    .dataframe tbody tr th:only-of-type {\n",
       "        vertical-align: middle;\n",
       "    }\n",
       "\n",
       "    .dataframe tbody tr th {\n",
       "        vertical-align: top;\n",
       "    }\n",
       "\n",
       "    .dataframe thead th {\n",
       "        text-align: right;\n",
       "    }\n",
       "</style>\n",
       "<table border=\"1\" class=\"dataframe\">\n",
       "  <thead>\n",
       "    <tr style=\"text-align: right;\">\n",
       "      <th></th>\n",
       "      <th>Member_number</th>\n",
       "      <th>Date</th>\n",
       "      <th>itemDescription</th>\n",
       "    </tr>\n",
       "  </thead>\n",
       "  <tbody>\n",
       "    <tr>\n",
       "      <th>0</th>\n",
       "      <td>1000</td>\n",
       "      <td>2014-06-24</td>\n",
       "      <td>3</td>\n",
       "    </tr>\n",
       "    <tr>\n",
       "      <th>1</th>\n",
       "      <td>1000</td>\n",
       "      <td>2015-03-15</td>\n",
       "      <td>4</td>\n",
       "    </tr>\n",
       "    <tr>\n",
       "      <th>2</th>\n",
       "      <td>1000</td>\n",
       "      <td>2015-05-27</td>\n",
       "      <td>2</td>\n",
       "    </tr>\n",
       "    <tr>\n",
       "      <th>3</th>\n",
       "      <td>1000</td>\n",
       "      <td>2015-07-24</td>\n",
       "      <td>2</td>\n",
       "    </tr>\n",
       "    <tr>\n",
       "      <th>4</th>\n",
       "      <td>1000</td>\n",
       "      <td>2015-11-25</td>\n",
       "      <td>2</td>\n",
       "    </tr>\n",
       "  </tbody>\n",
       "</table>\n",
       "</div>"
      ],
      "text/plain": [
       "   Member_number       Date  itemDescription\n",
       "0           1000 2014-06-24                3\n",
       "1           1000 2015-03-15                4\n",
       "2           1000 2015-05-27                2\n",
       "3           1000 2015-07-24                2\n",
       "4           1000 2015-11-25                2"
      ]
     },
     "execution_count": 84,
     "metadata": {},
     "output_type": "execute_result"
    }
   ],
   "source": [
    "#Average number of items per shopping\n",
    "item_qty = df[['Member_number', 'Date','itemDescription']]\\\n",
    ".groupby(['Member_number','Date']).count().reset_index()\n",
    "item_qty.head()"
   ]
  },
  {
   "cell_type": "code",
   "execution_count": null,
   "id": "08356af0",
   "metadata": {},
   "outputs": [
    {
     "data": {
      "text/plain": [
       "Text(0.5, 1.0, 'Histogram of Item Quantities per Shopping')"
      ]
     },
     "execution_count": 85,
     "metadata": {},
     "output_type": "execute_result"
    },
    {
     "data": {
      "image/png": "[encoded data removed]",
      "text/plain": [
       "<Figure size 1000x600 with 1 Axes>"
      ]
     },
     "metadata": {},
     "output_type": "display_data"
    }
   ],
   "source": [
    "#distribution of the number of items per shopping\n",
    "item_qty = df[['Member_number', 'Date','itemDescription']]\\\n",
    ".groupby(['Member_number','Date']).count().reset_index()\n",
    "item_qty.head()\n",
    "item_qty.itemDescription.mean()\n",
    "item_qty.itemDescription.plot(figsize=(10,6), kind='hist',\n",
    "                              legend=False, fontsize=14)\n",
    "plt.title('Histogram of Item Quantities per Shopping', fontsize=18)\n"
   ]
  },
  {
   "cell_type": "code",
   "execution_count": null,
   "id": "91a7370f",
   "metadata": {},
   "outputs": [
    {
     "data": {
      "text/plain": [
       "2.590723785337165"
      ]
     },
     "execution_count": 86,
     "metadata": {},
     "output_type": "execute_result"
    }
   ],
   "source": [
    "item_qty.itemDescription.mean()"
   ]
  },
  {
   "cell_type": "code",
   "execution_count": null,
   "id": "37e8a414",
   "metadata": {},
   "outputs": [
    {
     "data": {
      "text/html": [
       "<div>\n",
       "<style scoped>\n",
       "    .dataframe tbody tr th:only-of-type {\n",
       "        vertical-align: middle;\n",
       "    }\n",
       "\n",
       "    .dataframe tbody tr th {\n",
       "        vertical-align: top;\n",
       "    }\n",
       "\n",
       "    .dataframe thead th {\n",
       "        text-align: right;\n",
       "    }\n",
       "</style>\n",
       "<table border=\"1\" class=\"dataframe\">\n",
       "  <thead>\n",
       "    <tr style=\"text-align: right;\">\n",
       "      <th></th>\n",
       "      <th>Member_number</th>\n",
       "      <th>Date</th>\n",
       "      <th>itemDescription</th>\n",
       "    </tr>\n",
       "  </thead>\n",
       "  <tbody>\n",
       "    <tr>\n",
       "      <th>0</th>\n",
       "      <td>1000</td>\n",
       "      <td>2014-06-24</td>\n",
       "      <td>[whole milk, pastry, salty snack]</td>\n",
       "    </tr>\n",
       "    <tr>\n",
       "      <th>1</th>\n",
       "      <td>1000</td>\n",
       "      <td>2015-03-15</td>\n",
       "      <td>[sausage, whole milk, semi-finished bread, yog...</td>\n",
       "    </tr>\n",
       "    <tr>\n",
       "      <th>2</th>\n",
       "      <td>1000</td>\n",
       "      <td>2015-05-27</td>\n",
       "      <td>[soda, pickled vegetables]</td>\n",
       "    </tr>\n",
       "    <tr>\n",
       "      <th>3</th>\n",
       "      <td>1000</td>\n",
       "      <td>2015-07-24</td>\n",
       "      <td>[canned beer, misc. beverages]</td>\n",
       "    </tr>\n",
       "    <tr>\n",
       "      <th>4</th>\n",
       "      <td>1000</td>\n",
       "      <td>2015-11-25</td>\n",
       "      <td>[sausage, hygiene articles]</td>\n",
       "    </tr>\n",
       "  </tbody>\n",
       "</table>\n",
       "</div>"
      ],
      "text/plain": [
       "   Member_number       Date                                    itemDescription\n",
       "0           1000 2014-06-24                  [whole milk, pastry, salty snack]\n",
       "1           1000 2015-03-15  [sausage, whole milk, semi-finished bread, yog...\n",
       "2           1000 2015-05-27                         [soda, pickled vegetables]\n",
       "3           1000 2015-07-24                     [canned beer, misc. beverages]\n",
       "4           1000 2015-11-25                        [sausage, hygiene articles]"
      ]
     },
     "execution_count": 87,
     "metadata": {},
     "output_type": "execute_result"
    }
   ],
   "source": [
    "# Items that are frequently purchased together\n",
    "items = df.groupby(['Member_number', 'Date'])\\\n",
    ".agg({'itemDescription': lambda x: x.ravel().tolist()}).reset_index()\n",
    "items.head()"
   ]
  },
  {
   "cell_type": "code",
   "execution_count": null,
   "id": "6eab1c49",
   "metadata": {},
   "outputs": [
    {
     "data": {
      "text/plain": [
       "[('whole milk', 'pastry'),\n",
       " ('whole milk', 'salty snack'),\n",
       " ('pastry', 'salty snack')]"
      ]
     },
     "execution_count": 93,
     "metadata": {},
     "output_type": "execute_result"
    }
   ],
   "source": [
    "#combinations of items in each row in “itemDescription” column\n",
    "import itertools\n",
    "list(itertools.combinations(items.itemDescription[0], 2))"
   ]
  },
  {
   "cell_type": "code",
   "execution_count": null,
   "id": "de20c3fe",
   "metadata": {},
   "outputs": [],
   "source": [
    "combinations_list = []\n",
    "for row in items.itemDescription:\n",
    "    combinations = list(itertools.combinations(row, 2))\n",
    "    combinations_list.append(combinations)"
   ]
  },
  {
   "cell_type": "code",
   "execution_count": null,
   "id": "1b0dc1e6",
   "metadata": {},
   "outputs": [
    {
     "data": {
      "text/plain": [
       "[[('whole milk', 'pastry'),\n",
       "  ('whole milk', 'salty snack'),\n",
       "  ('pastry', 'salty snack')],\n",
       " [('sausage', 'whole milk'),\n",
       "  ('sausage', 'semi-finished bread'),\n",
       "  ('sausage', 'yogurt'),\n",
       "  ('whole milk', 'semi-finished bread'),\n",
       "  ('whole milk', 'yogurt'),\n",
       "  ('semi-finished bread', 'yogurt')]]"
      ]
     },
     "execution_count": 95,
     "metadata": {},
     "output_type": "execute_result"
    }
   ],
   "source": [
    "combinations_list [:2]"
   ]
  },
  {
   "cell_type": "code",
   "execution_count": null,
   "id": "d3e72040",
   "metadata": {},
   "outputs": [],
   "source": [
    "combination_counts = pd.Series(combinations_list).explode().reset_index(drop=True)"
   ]
  },
  {
   "cell_type": "code",
   "execution_count": null,
   "id": "24b9afdd",
   "metadata": {},
   "outputs": [
    {
     "data": {
      "text/plain": [
       "0              (whole milk, pastry)\n",
       "1         (whole milk, salty snack)\n",
       "2             (pastry, salty snack)\n",
       "3             (sausage, whole milk)\n",
       "4    (sausage, semi-finished bread)\n",
       "dtype: object"
      ]
     },
     "execution_count": 97,
     "metadata": {},
     "output_type": "execute_result"
    }
   ],
   "source": [
    "combination_counts [:5]"
   ]
  },
  {
   "cell_type": "code",
   "execution_count": null,
   "id": "b60fd815",
   "metadata": {},
   "outputs": [],
   "source": [
    "combination_counts.value_counts() [:10]"
   ]
  },
  {
   "cell_type": "code",
   "execution_count": null,
   "id": "3cad4344",
   "metadata": {},
   "outputs": [
    {
     "data": {
      "text/html": [
       "<div>\n",
       "<style scoped>\n",
       "    .dataframe tbody tr th:only-of-type {\n",
       "        vertical-align: middle;\n",
       "    }\n",
       "\n",
       "    .dataframe tbody tr th {\n",
       "        vertical-align: top;\n",
       "    }\n",
       "\n",
       "    .dataframe thead th {\n",
       "        text-align: right;\n",
       "    }\n",
       "</style>\n",
       "<table border=\"1\" class=\"dataframe\">\n",
       "  <thead>\n",
       "    <tr style=\"text-align: right;\">\n",
       "      <th></th>\n",
       "      <th>Member_number</th>\n",
       "      <th>Date</th>\n",
       "      <th>itemDescription</th>\n",
       "    </tr>\n",
       "  </thead>\n",
       "  <tbody>\n",
       "    <tr>\n",
       "      <th>0</th>\n",
       "      <td>1994</td>\n",
       "      <td>2015-03-11</td>\n",
       "      <td>4</td>\n",
       "    </tr>\n",
       "    <tr>\n",
       "      <th>1</th>\n",
       "      <td>4843</td>\n",
       "      <td>2015-05-13</td>\n",
       "      <td>3</td>\n",
       "    </tr>\n",
       "    <tr>\n",
       "      <th>2</th>\n",
       "      <td>2736</td>\n",
       "      <td>2015-03-02</td>\n",
       "      <td>3</td>\n",
       "    </tr>\n",
       "    <tr>\n",
       "      <th>3</th>\n",
       "      <td>1370</td>\n",
       "      <td>2015-06-28</td>\n",
       "      <td>3</td>\n",
       "    </tr>\n",
       "    <tr>\n",
       "      <th>4</th>\n",
       "      <td>3518</td>\n",
       "      <td>2014-02-08</td>\n",
       "      <td>3</td>\n",
       "    </tr>\n",
       "  </tbody>\n",
       "</table>\n",
       "</div>"
      ],
      "text/plain": [
       "   Member_number       Date  itemDescription\n",
       "0           1994 2015-03-11                4\n",
       "1           4843 2015-05-13                3\n",
       "2           2736 2015-03-02                3\n",
       "3           1370 2015-06-28                3\n",
       "4           3518 2014-02-08                3"
      ]
     },
     "execution_count": 98,
     "metadata": {},
     "output_type": "execute_result"
    }
   ],
   "source": [
    "#count the number of whole milks at each shopping\n",
    "whole_milk = df[df.itemDescription == 'whole milk']\\\n",
    ".groupby(['Member_number','Date']).count()\\\n",
    ".sort_values(by='itemDescription', ascending=False).reset_index()\n",
    "whole_milk.head()"
   ]
  },
  {
   "cell_type": "code",
   "execution_count": null,
   "id": "ba923b56",
   "metadata": {},
   "outputs": [
    {
     "data": {
      "text/html": [
       "<div>\n",
       "<style scoped>\n",
       "    .dataframe tbody tr th:only-of-type {\n",
       "        vertical-align: middle;\n",
       "    }\n",
       "\n",
       "    .dataframe tbody tr th {\n",
       "        vertical-align: top;\n",
       "    }\n",
       "\n",
       "    .dataframe thead th {\n",
       "        text-align: right;\n",
       "    }\n",
       "</style>\n",
       "<table border=\"1\" class=\"dataframe\">\n",
       "  <thead>\n",
       "    <tr style=\"text-align: right;\">\n",
       "      <th></th>\n",
       "      <th>Member_number</th>\n",
       "      <th>itemDescription</th>\n",
       "    </tr>\n",
       "  </thead>\n",
       "  <tbody>\n",
       "    <tr>\n",
       "      <th>3578</th>\n",
       "      <td>5000</td>\n",
       "      <td>soda</td>\n",
       "    </tr>\n",
       "    <tr>\n",
       "      <th>34885</th>\n",
       "      <td>5000</td>\n",
       "      <td>semi-finished bread</td>\n",
       "    </tr>\n",
       "    <tr>\n",
       "      <th>11728</th>\n",
       "      <td>5000</td>\n",
       "      <td>fruit/vegetable juice</td>\n",
       "    </tr>\n",
       "    <tr>\n",
       "      <th>9340</th>\n",
       "      <td>5000</td>\n",
       "      <td>bottled beer</td>\n",
       "    </tr>\n",
       "    <tr>\n",
       "      <th>19727</th>\n",
       "      <td>5000</td>\n",
       "      <td>root vegetables</td>\n",
       "    </tr>\n",
       "    <tr>\n",
       "      <th>...</th>\n",
       "      <td>...</td>\n",
       "      <td>...</td>\n",
       "    </tr>\n",
       "    <tr>\n",
       "      <th>13331</th>\n",
       "      <td>1000</td>\n",
       "      <td>whole milk</td>\n",
       "    </tr>\n",
       "    <tr>\n",
       "      <th>17778</th>\n",
       "      <td>1000</td>\n",
       "      <td>pickled vegetables</td>\n",
       "    </tr>\n",
       "    <tr>\n",
       "      <th>6388</th>\n",
       "      <td>1000</td>\n",
       "      <td>sausage</td>\n",
       "    </tr>\n",
       "    <tr>\n",
       "      <th>20992</th>\n",
       "      <td>1000</td>\n",
       "      <td>semi-finished bread</td>\n",
       "    </tr>\n",
       "    <tr>\n",
       "      <th>8395</th>\n",
       "      <td>1000</td>\n",
       "      <td>whole milk</td>\n",
       "    </tr>\n",
       "  </tbody>\n",
       "</table>\n",
       "<p>38765 rows × 2 columns</p>\n",
       "</div>"
      ],
      "text/plain": [
       "       Member_number        itemDescription\n",
       "3578            5000                   soda\n",
       "34885           5000    semi-finished bread\n",
       "11728           5000  fruit/vegetable juice\n",
       "9340            5000           bottled beer\n",
       "19727           5000        root vegetables\n",
       "...              ...                    ...\n",
       "13331           1000             whole milk\n",
       "17778           1000     pickled vegetables\n",
       "6388            1000                sausage\n",
       "20992           1000    semi-finished bread\n",
       "8395            1000             whole milk\n",
       "\n",
       "[38765 rows x 2 columns]"
      ]
     },
     "execution_count": 88,
     "metadata": {},
     "output_type": "execute_result"
    }
   ],
   "source": [
    "#Step - 5 : Basket Analysis using Apriori\n",
    "\n",
    "#Step - 5.1 : Data Preparation\n",
    "## Selecting only required variables for modelling\n",
    "cust_level = df[[\"Member_number\", \"itemDescription\"]].sort_values(by = \"Member_number\", ascending = False)\n",
    "\n",
    "# Removing white spaces if any\n",
    "cust_level['itemDescription'] = cust_level['itemDescription'].str.strip()\n",
    "cust_level"
   ]
  },
  {
   "cell_type": "code",
   "execution_count": null,
   "id": "9c3579ae",
   "metadata": {},
   "outputs": [],
   "source": [
    "#Step - 5.2 : Create Transaction list\n",
    "\n",
    "## Combing all the items in list format for each customer\n",
    "\n",
    "transactions = [a[1]['itemDescription'].tolist() for a in list(cust_level.groupby(['Member_number']))]\n"
   ]
  },
  {
   "cell_type": "code",
   "execution_count": null,
   "id": "3834d1b1",
   "metadata": {},
   "outputs": [
    {
     "data": {
      "text/plain": [
       "[RelationRecord(items=frozenset({'UHT-milk', 'kitchen towels'}), support=0.002308876346844536, ordered_statistics=[OrderedStatistic(items_base=frozenset({'kitchen towels'}), items_add=frozenset({'UHT-milk'}), confidence=0.30000000000000004, lift=3.821568627450981)]),\n",
       " RelationRecord(items=frozenset({'potato products', 'beef'}), support=0.002565418163160595, ordered_statistics=[OrderedStatistic(items_base=frozenset({'potato products'}), items_add=frozenset({'beef'}), confidence=0.4545454545454546, lift=3.8021849395239955)]),\n",
       " RelationRecord(items=frozenset({'coffee', 'canned fruit'}), support=0.002308876346844536, ordered_statistics=[OrderedStatistic(items_base=frozenset({'canned fruit'}), items_add=frozenset({'coffee'}), confidence=0.4285714285714286, lift=3.7289540816326534)]),\n",
       " RelationRecord(items=frozenset({'meat spreads', 'domestic eggs'}), support=0.0035915854284248334, ordered_statistics=[OrderedStatistic(items_base=frozenset({'meat spreads'}), items_add=frozenset({'domestic eggs'}), confidence=0.4, lift=3.0042389210019267)]),\n",
       " RelationRecord(items=frozenset({'mayonnaise', 'flour'}), support=0.002308876346844536, ordered_statistics=[OrderedStatistic(items_base=frozenset({'flour'}), items_add=frozenset({'mayonnaise'}), confidence=0.06338028169014086, lift=3.3385991625428253), OrderedStatistic(items_base=frozenset({'mayonnaise'}), items_add=frozenset({'flour'}), confidence=0.12162162162162163, lift=3.338599162542825)]),\n",
       " RelationRecord(items=frozenset({'napkins', 'rice'}), support=0.0030785017957927143, ordered_statistics=[OrderedStatistic(items_base=frozenset({'rice'}), items_add=frozenset({'napkins'}), confidence=0.2448979591836735, lift=3.011395094315329)]),\n",
       " RelationRecord(items=frozenset({'sparkling wine', 'waffles'}), support=0.002565418163160595, ordered_statistics=[OrderedStatistic(items_base=frozenset({'sparkling wine'}), items_add=frozenset({'waffles'}), confidence=0.21739130434782608, lift=3.1501535477614353)])]"
      ]
     },
     "execution_count": 91,
     "metadata": {},
     "output_type": "execute_result"
    }
   ],
   "source": [
    "#Step - 5.3 : Train Model\n",
    "## Model Creation\n",
    "rules = apriori(transactions = transactions, min_support = 0.002, min_confidence = 0.05, min_lift = 3, min_length = 2, max_length = 2)\n",
    "\n",
    "## Storing results in list format for better visualisation\n",
    "results = list(rules)\n",
    "results"
   ]
  },
  {
   "cell_type": "code",
   "execution_count": null,
   "id": "46e23182",
   "metadata": {},
   "outputs": [
    {
     "data": {
      "text/html": [
       "<div>\n",
       "<style scoped>\n",
       "    .dataframe tbody tr th:only-of-type {\n",
       "        vertical-align: middle;\n",
       "    }\n",
       "\n",
       "    .dataframe tbody tr th {\n",
       "        vertical-align: top;\n",
       "    }\n",
       "\n",
       "    .dataframe thead th {\n",
       "        text-align: right;\n",
       "    }\n",
       "</style>\n",
       "<table border=\"1\" class=\"dataframe\">\n",
       "  <thead>\n",
       "    <tr style=\"text-align: right;\">\n",
       "      <th></th>\n",
       "      <th>Left Hand Side</th>\n",
       "      <th>Right Hand Side</th>\n",
       "      <th>Support</th>\n",
       "      <th>Confidence</th>\n",
       "      <th>Lift</th>\n",
       "    </tr>\n",
       "  </thead>\n",
       "  <tbody>\n",
       "    <tr>\n",
       "      <th>0</th>\n",
       "      <td>kitchen towels</td>\n",
       "      <td>UHT-milk</td>\n",
       "      <td>0.002309</td>\n",
       "      <td>0.300000</td>\n",
       "      <td>3.821569</td>\n",
       "    </tr>\n",
       "    <tr>\n",
       "      <th>1</th>\n",
       "      <td>potato products</td>\n",
       "      <td>beef</td>\n",
       "      <td>0.002565</td>\n",
       "      <td>0.454545</td>\n",
       "      <td>3.802185</td>\n",
       "    </tr>\n",
       "    <tr>\n",
       "      <th>2</th>\n",
       "      <td>canned fruit</td>\n",
       "      <td>coffee</td>\n",
       "      <td>0.002309</td>\n",
       "      <td>0.428571</td>\n",
       "      <td>3.728954</td>\n",
       "    </tr>\n",
       "    <tr>\n",
       "      <th>4</th>\n",
       "      <td>flour</td>\n",
       "      <td>mayonnaise</td>\n",
       "      <td>0.002309</td>\n",
       "      <td>0.063380</td>\n",
       "      <td>3.338599</td>\n",
       "    </tr>\n",
       "    <tr>\n",
       "      <th>6</th>\n",
       "      <td>sparkling wine</td>\n",
       "      <td>waffles</td>\n",
       "      <td>0.002565</td>\n",
       "      <td>0.217391</td>\n",
       "      <td>3.150154</td>\n",
       "    </tr>\n",
       "    <tr>\n",
       "      <th>5</th>\n",
       "      <td>rice</td>\n",
       "      <td>napkins</td>\n",
       "      <td>0.003079</td>\n",
       "      <td>0.244898</td>\n",
       "      <td>3.011395</td>\n",
       "    </tr>\n",
       "    <tr>\n",
       "      <th>3</th>\n",
       "      <td>meat spreads</td>\n",
       "      <td>domestic eggs</td>\n",
       "      <td>0.003592</td>\n",
       "      <td>0.400000</td>\n",
       "      <td>3.004239</td>\n",
       "    </tr>\n",
       "  </tbody>\n",
       "</table>\n",
       "</div>"
      ],
      "text/plain": [
       "    Left Hand Side Right Hand Side   Support  Confidence      Lift\n",
       "0   kitchen towels        UHT-milk  0.002309    0.300000  3.821569\n",
       "1  potato products            beef  0.002565    0.454545  3.802185\n",
       "2     canned fruit          coffee  0.002309    0.428571  3.728954\n",
       "4            flour      mayonnaise  0.002309    0.063380  3.338599\n",
       "6   sparkling wine         waffles  0.002565    0.217391  3.150154\n",
       "5             rice         napkins  0.003079    0.244898  3.011395\n",
       "3     meat spreads   domestic eggs  0.003592    0.400000  3.004239"
      ]
     },
     "execution_count": 92,
     "metadata": {},
     "output_type": "execute_result"
    }
   ],
   "source": [
    "#Step - 6 : Result Customization\n",
    "\n",
    "## Creating user-defined function for arranging the results obtained from model into readable format\n",
    "\n",
    "def inspect(results):\n",
    "    lhs         = [tuple(result[2][0][0])[0] for result in results]\n",
    "    rhs         = [tuple(result[2][0][1])[0] for result in results]\n",
    "    supports    = [result[1] for result in results]\n",
    "    confidences = [result[2][0][2] for result in results]\n",
    "    lifts       = [result[2][0][3] for result in results]\n",
    "    return list(zip(lhs, rhs, supports, confidences, lifts))\n",
    "resultsinDataFrame = pd.DataFrame(inspect(results), columns = ['Left Hand Side', 'Right Hand Side', 'Support', 'Confidence', 'Lift'])\n",
    "\n",
    "## Showing best possible scenarios\n",
    "resultsinDataFrame.nlargest(n=10, columns=\"Lift\")"
   ]
  },
  {
   "cell_type": "markdown",
   "id": "4620a700",
   "metadata": {},
   "source": [
    " Left Hand Side (LHS):\n",
    " It represents the items that are observed or known to occur together with other items.\n",
    "Right Hand Side (RHS):\n",
    "It represents the items that are expected to co-occur with the items in the LHS.\n",
    "Support:\n",
    "\n",
    "Support is a measure of how frequently a particular itemset or association rule appears in the dataset. It is calculated as the proportion of transactions that contain both the LHS and RHS of the rule. A higher support value indicates that the association is more common in the dataset.\n",
    "Confidence:\n",
    "Confidence measures the reliability or strength of an association rule. It is calculated as the proportion of transactions containing the LHS that also contain the RHS. In other words, it represents the conditional probability of the RHS given the LHS. Higher confidence values indicate stronger associations between items.\n",
    "Lift:\n",
    "Lift is a measure of how much more likely the RHS is to occur given the presence of the LHS compared to its expected occurrence by chance. It is calculated as the ratio of the observed support of the association rule to the expected support if the items in the LHS and RHS were independent. Lift values greater than 1 indicate that the occurrence of the items is positively correlated, while values less than 1 indicate negative correlation or independence."
   ]
  }
 ],
 "metadata": {
  "kernelspec": {
   "display_name": "Python 3 (ipykernel)",
   "language": "python",
   "name": "python3"
  },
  "language_info": {
   "codemirror_mode": {
    "name": "ipython",
    "version": 3
   },
   "file_extension": ".py",
   "mimetype": "text/x-python",
   "name": "python",
   "nbconvert_exporter": "python",
   "pygments_lexer": "ipython3",
   "version": "3.12.1"
  }
 },
 "nbformat": 4,
 "nbformat_minor": 5
}
